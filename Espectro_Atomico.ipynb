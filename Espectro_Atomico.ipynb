{
 "cells": [
  {
   "cell_type": "code",
   "execution_count": 1,
   "id": "44da846e",
   "metadata": {},
   "outputs": [],
   "source": [
    "import pandas as pd\n",
    "import numpy as np\n",
    "from uncertainties import ufloat, unumpy"
   ]
  },
  {
   "cell_type": "markdown",
   "id": "73d98cc1",
   "metadata": {},
   "source": [
    "### Dados para Lâmpada de Hg"
   ]
  },
  {
   "cell_type": "code",
   "execution_count": 3,
   "id": "b99b080c",
   "metadata": {},
   "outputs": [
    {
     "data": {
      "text/plain": [
       "array([434.97726631730825+/-0.5378157641283033,\n",
       "       550.4057325193864+/-0.639992318313688,\n",
       "       594.3139883522466+/-0.6743207640280131,\n",
       "       613.2010016410197+/-0.6881974163637324,\n",
       "       701.9651857131096+/-0.7454814194757303], dtype=object)"
      ]
     },
     "execution_count": 3,
     "metadata": {},
     "output_type": "execute_result"
    }
   ],
   "source": [
    "hg=np.array([ufloat(106.25,0.04),ufloat(137.50,0.04),ufloat(150.00,0.04),ufloat(155.50,0.04),ufloat(182.50,0.04)]) #l +/- delta l\n",
    "d=np.array([ufloat(393.0,0.5)])\n",
    "k=1/600\n",
    "lbda=(k*hg/(d**2 + hg**2)**(1/2))*10**6 #Comprimento de Onda (nm)\n",
    "lbda\n"
   ]
  },
  {
   "cell_type": "code",
   "execution_count": 4,
   "id": "6d0a0ae0",
   "metadata": {},
   "outputs": [
    {
     "data": {
      "text/plain": [
       "array([689.214083619043+/-0.8521599350876572,\n",
       "       544.675391783716+/-0.6333292807843324,\n",
       "       504.4344637271345+/-0.5723416235340855,\n",
       "       488.89753473609716+/-0.5486912437709119,\n",
       "       427.0759634545808+/-0.45355126142994423], dtype=object)"
      ]
     },
     "execution_count": 4,
     "metadata": {},
     "output_type": "execute_result"
    }
   ],
   "source": [
    "c=299792458\n",
    "f=c/lbda*10**(-3)\n",
    "f # Frequencia em 10^12 Hz"
   ]
  },
  {
   "cell_type": "code",
   "execution_count": 5,
   "id": "e4464fe1",
   "metadata": {},
   "outputs": [
    {
     "data": {
      "text/plain": [
       "array([4.569489374394255e-31+/-5.649820369631167e-34,\n",
       "       3.6111978475260365e-31+/-4.198973131600124e-34,\n",
       "       3.3444004945109017e-31+/-3.7946249640309867e-34,\n",
       "       3.2413906553003236e-31+/-3.6378229462011462e-34,\n",
       "       2.8315136377038703e-31+/-3.00704486328053e-34], dtype=object)"
      ]
     },
     "execution_count": 5,
     "metadata": {},
     "output_type": "execute_result"
    }
   ],
   "source": [
    "h=6.63*10**(-34)\n",
    "E=h*f\n",
    "E #Energia"
   ]
  },
  {
   "cell_type": "markdown",
   "id": "58c3393a",
   "metadata": {},
   "source": [
    "### Dados para Lâmpada de He"
   ]
  },
  {
   "cell_type": "code",
   "execution_count": 6,
   "id": "9f47c658",
   "metadata": {},
   "outputs": [
    {
     "data": {
      "text/plain": [
       "array([456.7911055168428+/-0.5582805508971024,\n",
       "       479.2857666075383+/-0.578865242094198,\n",
       "       501.49848242388987+/-0.5986319461210365,\n",
       "       516.1463202267588+/-0.6113423514869543,\n",
       "       580.4106946521044+/-0.6637563602651952,\n",
       "       681.2041319642155+/-0.7333185164689523], dtype=object)"
      ]
     },
     "execution_count": 6,
     "metadata": {},
     "output_type": "execute_result"
    }
   ],
   "source": [
    "lHe=np.array([ufloat(112.00,0.04),ufloat(118.00,0.04),ufloat(124.00,0.04),ufloat(128.00,0.04),ufloat(146.00,0.04),ufloat(176.00,0.04)])\n",
    "d=np.array([ufloat(393.0, 0.5)])\n",
    "C=(k*lHe/(d**2 + lHe**2)**(1/2))*10**6 #Comprimento de Onda (nm)\n",
    "C"
   ]
  },
  {
   "cell_type": "code",
   "execution_count": 7,
   "id": "3099c238",
   "metadata": {},
   "outputs": [
    {
     "data": {
      "text/plain": [
       "array([656.3009970625317+/-0.802117374373608,\n",
       "       625.4983537733224+/-0.7554558912720729,\n",
       "       597.7933503427862+/-0.7135778257279717,\n",
       "       580.8284322714769+/-0.6879541821383638,\n",
       "       516.5178049996034+/-0.590688595881581,\n",
       "       440.0919547207744+/-0.4737604547629387], dtype=object)"
      ]
     },
     "execution_count": 7,
     "metadata": {},
     "output_type": "execute_result"
    }
   ],
   "source": [
    "f=c/C*10**(-3)\n",
    "f #Frequência"
   ]
  },
  {
   "cell_type": "code",
   "execution_count": 8,
   "id": "70430ffd",
   "metadata": {},
   "outputs": [
    {
     "data": {
      "text/plain": [
       "array([4.351275610524584e-31+/-5.318038192097021e-34,\n",
       "       4.147054085517127e-31+/-5.008672559133843e-34,\n",
       "       3.963369912772672e-31+/-4.731020984576451e-34,\n",
       "       3.8508925059598914e-31+/-4.561136227577352e-34,\n",
       "       3.42451304714737e-31+/-3.9162653906948815e-34,\n",
       "       2.917809659798734e-31+/-3.1410318150782836e-34], dtype=object)"
      ]
     },
     "execution_count": 8,
     "metadata": {},
     "output_type": "execute_result"
    }
   ],
   "source": [
    "E=h*f\n",
    "E # Energia"
   ]
  }
 ],
 "metadata": {
  "kernelspec": {
   "display_name": "Python 3 (ipykernel)",
   "language": "python",
   "name": "python3"
  },
  "language_info": {
   "codemirror_mode": {
    "name": "ipython",
    "version": 3
   },
   "file_extension": ".py",
   "mimetype": "text/x-python",
   "name": "python",
   "nbconvert_exporter": "python",
   "pygments_lexer": "ipython3",
   "version": "3.10.4"
  }
 },
 "nbformat": 4,
 "nbformat_minor": 5
}
